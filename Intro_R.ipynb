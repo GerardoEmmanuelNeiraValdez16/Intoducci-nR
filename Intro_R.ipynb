{
  "nbformat": 4,
  "nbformat_minor": 0,
  "metadata": {
    "colab": {
      "provenance": [],
      "authorship_tag": "ABX9TyOmJqp1FNzYj+W253cAD1QO",
      "include_colab_link": true
    },
    "kernelspec": {
      "name": "ir",
      "display_name": "R"
    },
    "language_info": {
      "name": "R"
    }
  },
  "cells": [
    {
      "cell_type": "markdown",
      "metadata": {
        "id": "view-in-github",
        "colab_type": "text"
      },
      "source": [
        "<a href=\"https://colab.research.google.com/github/GerardoEmmanuelNeiraValdez16/Intoducci-nR/blob/main/Intro_R.ipynb\" target=\"_parent\"><img src=\"https://colab.research.google.com/assets/colab-badge.svg\" alt=\"Open In Colab\"/></a>"
      ]
    },
    {
      "cell_type": "markdown",
      "source": [
        "# LENGUAJE EN R\n",
        "R es un entorno de software libre (licencia GNU GLP) y lenguaje de programación interpretado, es decir, ejecuta las instrucciones directamente, sin una previa compilación del programa a instrucciones en lenguaje máquina. El término entorno, en R, se refiere a un sistema totalmente planificado y coherente, en lugar de una acumulación de herramientas específicas e inflexibles, como suele ser el caso en otros softwares de análisis de datos."
      ],
      "metadata": {
        "id": "5wkWJtoiFQUn"
      }
    },
    {
      "cell_type": "markdown",
      "source": [
        "# **“Palabras”** y “oraciones”\n",
        "\n",
        "Cuando se trabaja en R con expresiones aritméticas, se respetan las reglas de precedencia matemática normal, pero se pueden utilizar paréntesis para alterar este orden. Los paréntesis se pueden anidar, pero a diferencia de la práctica habitual en matemáticas, se utiliza el mismo símbolo de paréntesis en todos los niveles de anidación."
      ],
      "metadata": {
        "id": "WqMBpMZaFbC9"
      }
    },
    {
      "cell_type": "code",
      "source": [
        "## primero se resuelve la multiplicacion luego continua con la suma\n",
        "1 + 2 * 3\n",
        "## [1] 7\n",
        "\n",
        "##resuelve operacion entre parentesis\n",
        "1 + (2 * 3)\n",
        "## [1] 7\n",
        "\n",
        "## primero realiza la operacion que esta entre parentesis para que posteriormente continue con la otra\n",
        "(1 + 2) * 3"
      ],
      "metadata": {
        "colab": {
          "base_uri": "https://localhost:8080/"
        },
        "id": "1QRHAJtvFiLK",
        "outputId": "4f4f1058-f059-4098-c80c-7883b2cfa839"
      },
      "execution_count": null,
      "outputs": [
        {
          "output_type": "execute_result",
          "data": {
            "text/plain": [
              "9"
            ]
          },
          "metadata": {},
          "execution_count": 1
        }
      ]
    },
    {
      "cell_type": "code",
      "execution_count": null,
      "metadata": {
        "colab": {
          "base_uri": "https://localhost:8080/",
          "height": 86
        },
        "id": "i73uVpXKKgcq",
        "outputId": "0b181279-1f12-4d9a-c339-aaea5c07cafe"
      },
      "outputs": [
        {
          "output_type": "display_data",
          "data": {
            "text/html": [
              "2"
            ],
            "text/markdown": "2",
            "text/latex": "2",
            "text/plain": [
              "[1] 2"
            ]
          },
          "metadata": {}
        },
        {
          "output_type": "display_data",
          "data": {
            "text/html": [
              "1"
            ],
            "text/markdown": "1",
            "text/latex": "1",
            "text/plain": [
              "[1] 1"
            ]
          },
          "metadata": {}
        },
        {
          "output_type": "display_data",
          "data": {
            "text/html": [
              "11"
            ],
            "text/markdown": "11",
            "text/latex": "11",
            "text/plain": [
              "[1] 11"
            ]
          },
          "metadata": {}
        },
        {
          "output_type": "display_data",
          "data": {
            "text/html": [
              "0.06"
            ],
            "text/markdown": "0.06",
            "text/latex": "0.06",
            "text/plain": [
              "[1] 0.06"
            ]
          },
          "metadata": {}
        }
      ],
      "source": [
        "#Declaramos valor a la varieble en este caso las letras\n",
        "a <- 1\n",
        "a + 1\n",
        "## [1] 2\n",
        "a\n",
        "## [1] 1\n",
        "b <- 10\n",
        "b <- a + b\n",
        "b\n",
        "## [1] 11\n",
        "3e-2 * 2.0\n",
        "## [1] 0.06"
      ]
    },
    {
      "cell_type": "code",
      "source": [
        "a <- b <- c <- 0.0\n",
        "a\n",
        "b\n",
        "c\n",
        "##Todos las variables tienen valor 0\n",
        "\n",
        "1 -> a\n",
        "a\n",
        "## 1\n",
        "a = 3\n",
        "a"
      ],
      "metadata": {
        "colab": {
          "base_uri": "https://localhost:8080/",
          "height": 104
        },
        "id": "Z3ndRjNrLie8",
        "outputId": "9f010064-680d-4f6c-da9e-7948bb1e43d5"
      },
      "execution_count": null,
      "outputs": [
        {
          "output_type": "display_data",
          "data": {
            "text/html": [
              "0"
            ],
            "text/markdown": "0",
            "text/latex": "0",
            "text/plain": [
              "[1] 0"
            ]
          },
          "metadata": {}
        },
        {
          "output_type": "display_data",
          "data": {
            "text/html": [
              "0"
            ],
            "text/markdown": "0",
            "text/latex": "0",
            "text/plain": [
              "[1] 0"
            ]
          },
          "metadata": {}
        },
        {
          "output_type": "display_data",
          "data": {
            "text/html": [
              "0"
            ],
            "text/markdown": "0",
            "text/latex": "0",
            "text/plain": [
              "[1] 0"
            ]
          },
          "metadata": {}
        },
        {
          "output_type": "display_data",
          "data": {
            "text/html": [
              "1"
            ],
            "text/markdown": "1",
            "text/latex": "1",
            "text/plain": [
              "[1] 1"
            ]
          },
          "metadata": {}
        },
        {
          "output_type": "display_data",
          "data": {
            "text/html": [
              "3"
            ],
            "text/markdown": "3",
            "text/latex": "3",
            "text/plain": [
              "[1] 3"
            ]
          },
          "metadata": {}
        }
      ]
    },
    {
      "cell_type": "code",
      "source": [
        "#Se da valores a cada variable\n",
        "a <- c(3, 1, 2)\n",
        "a\n",
        "## [1] 3 1 2\n",
        "b <- c(4, 5, 0)\n",
        "b\n",
        "## [1] 4 5 0\n",
        "\n",
        "#Con forme se depositen los caracteres ya con valores es el orden en el que se imprimiran\n",
        "c <- c(a, b)\n",
        "c\n",
        "## [1] 3 1 2 4 5 0\n",
        "d <- c(b, a)\n",
        "d\n",
        "## [1] 4 5 0 3 1 2"
      ],
      "metadata": {
        "colab": {
          "base_uri": "https://localhost:8080/",
          "height": 86
        },
        "id": "E6TIwK3gMMws",
        "outputId": "ae1f37e1-7cb6-402e-cc85-e2901528bc08"
      },
      "execution_count": null,
      "outputs": [
        {
          "output_type": "display_data",
          "data": {
            "text/html": [
              "<style>\n",
              ".list-inline {list-style: none; margin:0; padding: 0}\n",
              ".list-inline>li {display: inline-block}\n",
              ".list-inline>li:not(:last-child)::after {content: \"\\00b7\"; padding: 0 .5ex}\n",
              "</style>\n",
              "<ol class=list-inline><li>3</li><li>1</li><li>2</li></ol>\n"
            ],
            "text/markdown": "1. 3\n2. 1\n3. 2\n\n\n",
            "text/latex": "\\begin{enumerate*}\n\\item 3\n\\item 1\n\\item 2\n\\end{enumerate*}\n",
            "text/plain": [
              "[1] 3 1 2"
            ]
          },
          "metadata": {}
        },
        {
          "output_type": "display_data",
          "data": {
            "text/html": [
              "<style>\n",
              ".list-inline {list-style: none; margin:0; padding: 0}\n",
              ".list-inline>li {display: inline-block}\n",
              ".list-inline>li:not(:last-child)::after {content: \"\\00b7\"; padding: 0 .5ex}\n",
              "</style>\n",
              "<ol class=list-inline><li>4</li><li>5</li><li>0</li></ol>\n"
            ],
            "text/markdown": "1. 4\n2. 5\n3. 0\n\n\n",
            "text/latex": "\\begin{enumerate*}\n\\item 4\n\\item 5\n\\item 0\n\\end{enumerate*}\n",
            "text/plain": [
              "[1] 4 5 0"
            ]
          },
          "metadata": {}
        },
        {
          "output_type": "display_data",
          "data": {
            "text/html": [
              "<style>\n",
              ".list-inline {list-style: none; margin:0; padding: 0}\n",
              ".list-inline>li {display: inline-block}\n",
              ".list-inline>li:not(:last-child)::after {content: \"\\00b7\"; padding: 0 .5ex}\n",
              "</style>\n",
              "<ol class=list-inline><li>3</li><li>1</li><li>2</li><li>4</li><li>5</li><li>0</li></ol>\n"
            ],
            "text/markdown": "1. 3\n2. 1\n3. 2\n4. 4\n5. 5\n6. 0\n\n\n",
            "text/latex": "\\begin{enumerate*}\n\\item 3\n\\item 1\n\\item 2\n\\item 4\n\\item 5\n\\item 0\n\\end{enumerate*}\n",
            "text/plain": [
              "[1] 3 1 2 4 5 0"
            ]
          },
          "metadata": {}
        },
        {
          "output_type": "display_data",
          "data": {
            "text/html": [
              "<style>\n",
              ".list-inline {list-style: none; margin:0; padding: 0}\n",
              ".list-inline>li {display: inline-block}\n",
              ".list-inline>li:not(:last-child)::after {content: \"\\00b7\"; padding: 0 .5ex}\n",
              "</style>\n",
              "<ol class=list-inline><li>4</li><li>5</li><li>0</li><li>3</li><li>1</li><li>2</li></ol>\n"
            ],
            "text/markdown": "1. 4\n2. 5\n3. 0\n4. 3\n5. 1\n6. 2\n\n\n",
            "text/latex": "\\begin{enumerate*}\n\\item 4\n\\item 5\n\\item 0\n\\item 3\n\\item 1\n\\item 2\n\\end{enumerate*}\n",
            "text/plain": [
              "[1] 4 5 0 3 1 2"
            ]
          },
          "metadata": {}
        }
      ]
    },
    {
      "cell_type": "code",
      "source": [
        "#Cuando hay valores enteros estos problemas no existen, ya que la aritmética de enteros no se ve afectada por la pérdida de precisión en cálculos restringidos a números enteros.\n",
        "1L + 3L\n",
        "## [1] 4\n",
        "1L * 3L\n",
        "## [1] 3\n",
        "1L %/% 3L\n",
        "## [1] 0\n",
        "1L %% 3L\n",
        "## [1] 1\n",
        "1L / 3L\n",
        "## [1] 0.3333333"
      ],
      "metadata": {
        "colab": {
          "base_uri": "https://localhost:8080/",
          "height": 104
        },
        "id": "yqE_StCRNTgu",
        "outputId": "59bdd83c-29b7-4a9f-ec0d-0aeffdc9bbc1"
      },
      "execution_count": null,
      "outputs": [
        {
          "output_type": "display_data",
          "data": {
            "text/html": [
              "4"
            ],
            "text/markdown": "4",
            "text/latex": "4",
            "text/plain": [
              "[1] 4"
            ]
          },
          "metadata": {}
        },
        {
          "output_type": "display_data",
          "data": {
            "text/html": [
              "3"
            ],
            "text/markdown": "3",
            "text/latex": "3",
            "text/plain": [
              "[1] 3"
            ]
          },
          "metadata": {}
        },
        {
          "output_type": "display_data",
          "data": {
            "text/html": [
              "0"
            ],
            "text/markdown": "0",
            "text/latex": "0",
            "text/plain": [
              "[1] 0"
            ]
          },
          "metadata": {}
        },
        {
          "output_type": "display_data",
          "data": {
            "text/html": [
              "1"
            ],
            "text/markdown": "1",
            "text/latex": "1",
            "text/plain": [
              "[1] 1"
            ]
          },
          "metadata": {}
        },
        {
          "output_type": "display_data",
          "data": {
            "text/html": [
              "0.333333333333333"
            ],
            "text/markdown": "0.333333333333333",
            "text/latex": "0.333333333333333",
            "text/plain": [
              "[1] 0.3333333"
            ]
          },
          "metadata": {}
        }
      ]
    },
    {
      "cell_type": "markdown",
      "source": [
        "# ALGEBRA BOOLEANA Y VALORES LOGICOS\n",
        "\n",
        "Lo que en Matemáticas se suelen llamar valores booleanos, en R se llaman valores lógicos. Sólo pueden tener dos valores TRUE y FALSE, además de NA (no disponible).\n",
        "Son vectores como todos los demás tipos atómicos en R (por atómico queremos decir que cada valor no está compuesto de \"partes\"). También existen operadores lógicos que permiten el álgebra booleana. En el siguiente fragmento operamos con vectores lógicos de longitud uno."
      ],
      "metadata": {
        "id": "YwABOWoYN8yv"
      }
    },
    {
      "cell_type": "code",
      "source": [
        "a <- TRUE\n",
        "b <- FALSE\n",
        "mode(a)\n",
        "a\n",
        "## [1] TRUE\n",
        "!a # negacion\n",
        "## [1] FALSE\n",
        "a && b\n",
        "## [1] FALSE\n",
        "a || b\n",
        "## [1] TRUE\n",
        "xor(a, b)\n",
        "## [1] TRUE"
      ],
      "metadata": {
        "colab": {
          "base_uri": "https://localhost:8080/",
          "height": 121
        },
        "id": "ysnmIJJxOF2E",
        "outputId": "5e887670-f718-4d3e-e8c2-697fe771b7f0"
      },
      "execution_count": null,
      "outputs": [
        {
          "output_type": "display_data",
          "data": {
            "text/html": [
              "'logical'"
            ],
            "text/markdown": "'logical'",
            "text/latex": "'logical'",
            "text/plain": [
              "[1] \"logical\""
            ]
          },
          "metadata": {}
        },
        {
          "output_type": "display_data",
          "data": {
            "text/html": [
              "TRUE"
            ],
            "text/markdown": "TRUE",
            "text/latex": "TRUE",
            "text/plain": [
              "[1] TRUE"
            ]
          },
          "metadata": {}
        },
        {
          "output_type": "display_data",
          "data": {
            "text/html": [
              "FALSE"
            ],
            "text/markdown": "FALSE",
            "text/latex": "FALSE",
            "text/plain": [
              "[1] FALSE"
            ]
          },
          "metadata": {}
        },
        {
          "output_type": "display_data",
          "data": {
            "text/html": [
              "FALSE"
            ],
            "text/markdown": "FALSE",
            "text/latex": "FALSE",
            "text/plain": [
              "[1] FALSE"
            ]
          },
          "metadata": {}
        },
        {
          "output_type": "display_data",
          "data": {
            "text/html": [
              "TRUE"
            ],
            "text/markdown": "TRUE",
            "text/latex": "TRUE",
            "text/plain": [
              "[1] TRUE"
            ]
          },
          "metadata": {}
        },
        {
          "output_type": "display_data",
          "data": {
            "text/html": [
              "TRUE"
            ],
            "text/markdown": "TRUE",
            "text/latex": "TRUE",
            "text/plain": [
              "[1] TRUE"
            ]
          },
          "metadata": {}
        }
      ]
    },
    {
      "cell_type": "markdown",
      "source": [
        "# COMPARASION DE OPERADORES Y OPERACIONES\n",
        "\n",
        "Estos operadores se pueden utilizar en vectores de cualquier longitud, devolviendo como resultado un vector lógico tan largo como el operando más largo. En otras palabras, se comportan de la misma manera que los operadores aritméticos descritos en la página 23: sus argumentos se reciclan cuando es necesario. Sugerencia: si no sabe qué esperar como valor para el vector devuelto por 1:10, ejecute la instrucción print(a) después de la primera instrucción de código a continuación o, alternativamente, 1:10 sin guardar el resultado en una variable. .\n"
      ],
      "metadata": {
        "id": "TUkBA9XgO8mE"
      }
    },
    {
      "cell_type": "code",
      "source": [
        "1.2 > 1.0\n",
        "##  TRUE\n",
        "1.2 >= 1.0\n",
        "## TRUE\n",
        "1.2 == 1.0\n",
        "##  FALSE\n",
        "1.2 != 1.0\n",
        "## TRUE\n",
        "1.2 <= 1.0\n",
        "##  FALSE\n",
        "1.2 < 1.0\n",
        "## FALSE\n",
        "a <- 20\n",
        "a < 100 && a > 10\n",
        "##  TRUE\n",
        "\n",
        "a <- 1:10\n",
        "a > 5\n",
        "## FALSE FALSE FALSE FALSE FALSE TRUE TRUE TRUE TRUE TRUE\n",
        "a < 5\n",
        "## TRUE TRUE TRUE TRUE FALSE FALSE FALSE FALSE FALSE FALSE\n",
        "a == 5\n",
        "##  FALSE FALSE FALSE FALSE TRUE FALSE FALSE FALSE FALSE FALSE\n",
        "all(a > 5)\n",
        "## FALSE\n",
        "any(a > 5)\n",
        "## TRUE\n",
        "b <- a > 5\n",
        "b\n",
        "## FALSE FALSE FALSE FALSE FALSE TRUE TRUE TRUE TRUE TRUE\n",
        "any(b)\n",
        "## TRUE\n",
        "all(b)\n",
        "## [1] FALSE"
      ],
      "metadata": {
        "colab": {
          "base_uri": "https://localhost:8080/",
          "height": 277
        },
        "id": "xtdAdYvCPL1I",
        "outputId": "9f1872f8-eff6-4c0d-9e98-95ef27b34c0d"
      },
      "execution_count": null,
      "outputs": [
        {
          "output_type": "display_data",
          "data": {
            "text/html": [
              "TRUE"
            ],
            "text/markdown": "TRUE",
            "text/latex": "TRUE",
            "text/plain": [
              "[1] TRUE"
            ]
          },
          "metadata": {}
        },
        {
          "output_type": "display_data",
          "data": {
            "text/html": [
              "TRUE"
            ],
            "text/markdown": "TRUE",
            "text/latex": "TRUE",
            "text/plain": [
              "[1] TRUE"
            ]
          },
          "metadata": {}
        },
        {
          "output_type": "display_data",
          "data": {
            "text/html": [
              "FALSE"
            ],
            "text/markdown": "FALSE",
            "text/latex": "FALSE",
            "text/plain": [
              "[1] FALSE"
            ]
          },
          "metadata": {}
        },
        {
          "output_type": "display_data",
          "data": {
            "text/html": [
              "TRUE"
            ],
            "text/markdown": "TRUE",
            "text/latex": "TRUE",
            "text/plain": [
              "[1] TRUE"
            ]
          },
          "metadata": {}
        },
        {
          "output_type": "display_data",
          "data": {
            "text/html": [
              "FALSE"
            ],
            "text/markdown": "FALSE",
            "text/latex": "FALSE",
            "text/plain": [
              "[1] FALSE"
            ]
          },
          "metadata": {}
        },
        {
          "output_type": "display_data",
          "data": {
            "text/html": [
              "FALSE"
            ],
            "text/markdown": "FALSE",
            "text/latex": "FALSE",
            "text/plain": [
              "[1] FALSE"
            ]
          },
          "metadata": {}
        },
        {
          "output_type": "display_data",
          "data": {
            "text/html": [
              "TRUE"
            ],
            "text/markdown": "TRUE",
            "text/latex": "TRUE",
            "text/plain": [
              "[1] TRUE"
            ]
          },
          "metadata": {}
        },
        {
          "output_type": "display_data",
          "data": {
            "text/html": [
              "<style>\n",
              ".list-inline {list-style: none; margin:0; padding: 0}\n",
              ".list-inline>li {display: inline-block}\n",
              ".list-inline>li:not(:last-child)::after {content: \"\\00b7\"; padding: 0 .5ex}\n",
              "</style>\n",
              "<ol class=list-inline><li>FALSE</li><li>FALSE</li><li>FALSE</li><li>FALSE</li><li>FALSE</li><li>TRUE</li><li>TRUE</li><li>TRUE</li><li>TRUE</li><li>TRUE</li></ol>\n"
            ],
            "text/markdown": "1. FALSE\n2. FALSE\n3. FALSE\n4. FALSE\n5. FALSE\n6. TRUE\n7. TRUE\n8. TRUE\n9. TRUE\n10. TRUE\n\n\n",
            "text/latex": "\\begin{enumerate*}\n\\item FALSE\n\\item FALSE\n\\item FALSE\n\\item FALSE\n\\item FALSE\n\\item TRUE\n\\item TRUE\n\\item TRUE\n\\item TRUE\n\\item TRUE\n\\end{enumerate*}\n",
            "text/plain": [
              " [1] FALSE FALSE FALSE FALSE FALSE  TRUE  TRUE  TRUE  TRUE  TRUE"
            ]
          },
          "metadata": {}
        },
        {
          "output_type": "display_data",
          "data": {
            "text/html": [
              "<style>\n",
              ".list-inline {list-style: none; margin:0; padding: 0}\n",
              ".list-inline>li {display: inline-block}\n",
              ".list-inline>li:not(:last-child)::after {content: \"\\00b7\"; padding: 0 .5ex}\n",
              "</style>\n",
              "<ol class=list-inline><li>TRUE</li><li>TRUE</li><li>TRUE</li><li>TRUE</li><li>FALSE</li><li>FALSE</li><li>FALSE</li><li>FALSE</li><li>FALSE</li><li>FALSE</li></ol>\n"
            ],
            "text/markdown": "1. TRUE\n2. TRUE\n3. TRUE\n4. TRUE\n5. FALSE\n6. FALSE\n7. FALSE\n8. FALSE\n9. FALSE\n10. FALSE\n\n\n",
            "text/latex": "\\begin{enumerate*}\n\\item TRUE\n\\item TRUE\n\\item TRUE\n\\item TRUE\n\\item FALSE\n\\item FALSE\n\\item FALSE\n\\item FALSE\n\\item FALSE\n\\item FALSE\n\\end{enumerate*}\n",
            "text/plain": [
              " [1]  TRUE  TRUE  TRUE  TRUE FALSE FALSE FALSE FALSE FALSE FALSE"
            ]
          },
          "metadata": {}
        },
        {
          "output_type": "display_data",
          "data": {
            "text/html": [
              "<style>\n",
              ".list-inline {list-style: none; margin:0; padding: 0}\n",
              ".list-inline>li {display: inline-block}\n",
              ".list-inline>li:not(:last-child)::after {content: \"\\00b7\"; padding: 0 .5ex}\n",
              "</style>\n",
              "<ol class=list-inline><li>FALSE</li><li>FALSE</li><li>FALSE</li><li>FALSE</li><li>TRUE</li><li>FALSE</li><li>FALSE</li><li>FALSE</li><li>FALSE</li><li>FALSE</li></ol>\n"
            ],
            "text/markdown": "1. FALSE\n2. FALSE\n3. FALSE\n4. FALSE\n5. TRUE\n6. FALSE\n7. FALSE\n8. FALSE\n9. FALSE\n10. FALSE\n\n\n",
            "text/latex": "\\begin{enumerate*}\n\\item FALSE\n\\item FALSE\n\\item FALSE\n\\item FALSE\n\\item TRUE\n\\item FALSE\n\\item FALSE\n\\item FALSE\n\\item FALSE\n\\item FALSE\n\\end{enumerate*}\n",
            "text/plain": [
              " [1] FALSE FALSE FALSE FALSE  TRUE FALSE FALSE FALSE FALSE FALSE"
            ]
          },
          "metadata": {}
        },
        {
          "output_type": "display_data",
          "data": {
            "text/html": [
              "FALSE"
            ],
            "text/markdown": "FALSE",
            "text/latex": "FALSE",
            "text/plain": [
              "[1] FALSE"
            ]
          },
          "metadata": {}
        },
        {
          "output_type": "display_data",
          "data": {
            "text/html": [
              "TRUE"
            ],
            "text/markdown": "TRUE",
            "text/latex": "TRUE",
            "text/plain": [
              "[1] TRUE"
            ]
          },
          "metadata": {}
        },
        {
          "output_type": "display_data",
          "data": {
            "text/html": [
              "<style>\n",
              ".list-inline {list-style: none; margin:0; padding: 0}\n",
              ".list-inline>li {display: inline-block}\n",
              ".list-inline>li:not(:last-child)::after {content: \"\\00b7\"; padding: 0 .5ex}\n",
              "</style>\n",
              "<ol class=list-inline><li>FALSE</li><li>FALSE</li><li>FALSE</li><li>FALSE</li><li>FALSE</li><li>TRUE</li><li>TRUE</li><li>TRUE</li><li>TRUE</li><li>TRUE</li></ol>\n"
            ],
            "text/markdown": "1. FALSE\n2. FALSE\n3. FALSE\n4. FALSE\n5. FALSE\n6. TRUE\n7. TRUE\n8. TRUE\n9. TRUE\n10. TRUE\n\n\n",
            "text/latex": "\\begin{enumerate*}\n\\item FALSE\n\\item FALSE\n\\item FALSE\n\\item FALSE\n\\item FALSE\n\\item TRUE\n\\item TRUE\n\\item TRUE\n\\item TRUE\n\\item TRUE\n\\end{enumerate*}\n",
            "text/plain": [
              " [1] FALSE FALSE FALSE FALSE FALSE  TRUE  TRUE  TRUE  TRUE  TRUE"
            ]
          },
          "metadata": {}
        },
        {
          "output_type": "display_data",
          "data": {
            "text/html": [
              "TRUE"
            ],
            "text/markdown": "TRUE",
            "text/latex": "TRUE",
            "text/plain": [
              "[1] TRUE"
            ]
          },
          "metadata": {}
        },
        {
          "output_type": "display_data",
          "data": {
            "text/html": [
              "FALSE"
            ],
            "text/markdown": "FALSE",
            "text/latex": "FALSE",
            "text/plain": [
              "[1] FALSE"
            ]
          },
          "metadata": {}
        }
      ]
    },
    {
      "cell_type": "markdown",
      "source": [
        "# Conjuntos y operaciones de conjuntos\n",
        "\n",
        "El lenguaje R admite operaciones de conjuntos en vectores. Pueden resultar útiles en muchos contextos diferentes al manipular y comparar vectores de valores. En bioinformática es habitual, por ejemplo, disponer de vectores de caracteres de etiquetas genéticas. Es posible que tengamos un vector para cada una de un conjunto de muestras diferentes y necesitemos compararlas.\n",
        "Sin embargo, comenzamos usando un ejemplo más mundano: las compras cotidianas."
      ],
      "metadata": {
        "id": "84wa3bVDP_mz"
      }
    },
    {
      "cell_type": "code",
      "source": [
        "#se declara que valores tendra la variable\n",
        "fruits <- c(\"apple\", \"pear\", \"orange\", \"lemon\", \"tangerine\")\n",
        "bakery <- c(\"bread\", \"buns\", \"cake\", \"cookies\")\n",
        "dairy <- c(\"milk\", \"butter\", \"cheese\")\n",
        "shopping <- c(\"bread\", \"butter\", \"apple\", \"cheese\", \"orange\")\n",
        "#el intersect es para identificar que valores tienen en comun entre las variables mencionadas\n",
        "intersect(fruits, shopping)\n",
        "## [1] \"apple\" \"orange\"\n",
        "intersect(bakery, shopping)\n",
        "## [1] \"bread\"\n",
        "intersect(dairy, shopping)\n",
        "## [1] \"butter\" \"cheese\"\n",
        "#se busca un valor dentro de una variable, True si esta y False si no esta.\n",
        "\"lemon\" %in% dairy\n",
        "## [1] FALSE\n",
        "\"lemon\" %in% fruits\n",
        "## [1] TRUE\n",
        "setdiff(union(bakery, dairy), shopping)\n",
        "## [1] \"buns\" \"cake\" \"cookies\" \"milk\""
      ],
      "metadata": {
        "colab": {
          "base_uri": "https://localhost:8080/",
          "height": 121
        },
        "id": "2Dx4pUyBQCSa",
        "outputId": "3f090ba7-a37d-4d0a-d309-9166a2e64ca1"
      },
      "execution_count": null,
      "outputs": [
        {
          "output_type": "display_data",
          "data": {
            "text/html": [
              "<style>\n",
              ".list-inline {list-style: none; margin:0; padding: 0}\n",
              ".list-inline>li {display: inline-block}\n",
              ".list-inline>li:not(:last-child)::after {content: \"\\00b7\"; padding: 0 .5ex}\n",
              "</style>\n",
              "<ol class=list-inline><li>'apple'</li><li>'orange'</li></ol>\n"
            ],
            "text/markdown": "1. 'apple'\n2. 'orange'\n\n\n",
            "text/latex": "\\begin{enumerate*}\n\\item 'apple'\n\\item 'orange'\n\\end{enumerate*}\n",
            "text/plain": [
              "[1] \"apple\"  \"orange\""
            ]
          },
          "metadata": {}
        },
        {
          "output_type": "display_data",
          "data": {
            "text/html": [
              "'bread'"
            ],
            "text/markdown": "'bread'",
            "text/latex": "'bread'",
            "text/plain": [
              "[1] \"bread\""
            ]
          },
          "metadata": {}
        },
        {
          "output_type": "display_data",
          "data": {
            "text/html": [
              "<style>\n",
              ".list-inline {list-style: none; margin:0; padding: 0}\n",
              ".list-inline>li {display: inline-block}\n",
              ".list-inline>li:not(:last-child)::after {content: \"\\00b7\"; padding: 0 .5ex}\n",
              "</style>\n",
              "<ol class=list-inline><li>'butter'</li><li>'cheese'</li></ol>\n"
            ],
            "text/markdown": "1. 'butter'\n2. 'cheese'\n\n\n",
            "text/latex": "\\begin{enumerate*}\n\\item 'butter'\n\\item 'cheese'\n\\end{enumerate*}\n",
            "text/plain": [
              "[1] \"butter\" \"cheese\""
            ]
          },
          "metadata": {}
        },
        {
          "output_type": "display_data",
          "data": {
            "text/html": [
              "FALSE"
            ],
            "text/markdown": "FALSE",
            "text/latex": "FALSE",
            "text/plain": [
              "[1] FALSE"
            ]
          },
          "metadata": {}
        },
        {
          "output_type": "display_data",
          "data": {
            "text/html": [
              "TRUE"
            ],
            "text/markdown": "TRUE",
            "text/latex": "TRUE",
            "text/plain": [
              "[1] TRUE"
            ]
          },
          "metadata": {}
        },
        {
          "output_type": "display_data",
          "data": {
            "text/html": [
              "<style>\n",
              ".list-inline {list-style: none; margin:0; padding: 0}\n",
              ".list-inline>li {display: inline-block}\n",
              ".list-inline>li:not(:last-child)::after {content: \"\\00b7\"; padding: 0 .5ex}\n",
              "</style>\n",
              "<ol class=list-inline><li>'buns'</li><li>'cake'</li><li>'cookies'</li><li>'milk'</li></ol>\n"
            ],
            "text/markdown": "1. 'buns'\n2. 'cake'\n3. 'cookies'\n4. 'milk'\n\n\n",
            "text/latex": "\\begin{enumerate*}\n\\item 'buns'\n\\item 'cake'\n\\item 'cookies'\n\\item 'milk'\n\\end{enumerate*}\n",
            "text/plain": [
              "[1] \"buns\"    \"cake\"    \"cookies\" \"milk\"   "
            ]
          },
          "metadata": {}
        }
      ]
    },
    {
      "cell_type": "markdown",
      "source": [
        "# Valores de caracteres\n",
        "\n",
        "Las variables de caracteres se pueden utilizar para almacenar cualquier carácter. Las constantes de caracteres se escriben encerrando caracteres entre comillas. Hay tres tipos de comillas en el juego de caracteres ASCII: comillas dobles \", comillas simples ' y comillas invertidas `. La primera\n",
        "Se pueden utilizar dos tipos de comillas como delimitadores de constantes de caracteres."
      ],
      "metadata": {
        "id": "t43_TagNDQUZ"
      }
    },
    {
      "cell_type": "code",
      "source": [
        "a <- 'A'\n",
        "b <- \"bcdefg\"\n",
        "c <- \"123\"\n",
        "d <- c(a, b, c)\n",
        "d\n"
      ],
      "metadata": {
        "colab": {
          "base_uri": "https://localhost:8080/",
          "height": 34
        },
        "id": "8XuUglYTDo1A",
        "outputId": "c33b8144-7271-4393-edaa-82b54dd49c15"
      },
      "execution_count": null,
      "outputs": [
        {
          "output_type": "display_data",
          "data": {
            "text/html": [
              "<style>\n",
              ".list-inline {list-style: none; margin:0; padding: 0}\n",
              ".list-inline>li {display: inline-block}\n",
              ".list-inline>li:not(:last-child)::after {content: \"\\00b7\"; padding: 0 .5ex}\n",
              "</style>\n",
              "<ol class=list-inline><li>'A'</li><li>'bcdefg'</li><li>'123'</li></ol>\n"
            ],
            "text/markdown": "1. 'A'\n2. 'bcdefg'\n3. '123'\n\n\n",
            "text/latex": "\\begin{enumerate*}\n\\item 'A'\n\\item 'bcdefg'\n\\item '123'\n\\end{enumerate*}\n",
            "text/plain": [
              "[1] \"A\"      \"bcdefg\" \"123\"   "
            ]
          },
          "metadata": {}
        }
      ]
    },
    {
      "cell_type": "markdown",
      "source": [
        "# Matrices y arreglos multidimensionales.\n",
        "\n",
        "Los vectores tienen una única dimensión y, como vimos arriba, podemos consultar su longitud.\n",
        "con longitud del método(). Las matrices tienen dos dimensiones, que se pueden consultar con dim(), ncol() y nrow(). Las matrices R pueden tener cualquier número de dimensiones, incluso una simple.\n",
        "dimensión gle, que se puede consultar con el método dim(). Como se esperaba, is.vector(), is.matrix() y is.array() se pueden utilizar para consultar la clase.\n",
        "Podemos crear una nueva matriz usando los constructores Matrix() o as.matrix().\n",
        "El primer argumento de matriz() es un vector. Al igual que los vectores, las matrices son homogéneas, todos los elementos son del mismo tipo."
      ],
      "metadata": {
        "id": "9wAscjyrNiFG"
      }
    },
    {
      "cell_type": "code",
      "source": [
        "matrix(1:15, ncol = 3)\n",
        "\n",
        "matrix(1:15, nrow = 3)"
      ],
      "metadata": {
        "colab": {
          "base_uri": "https://localhost:8080/",
          "height": 337
        },
        "id": "pUeHTB9xNpYL",
        "outputId": "c047da71-db24-4114-ed87-11a1efe9ad7e"
      },
      "execution_count": null,
      "outputs": [
        {
          "output_type": "display_data",
          "data": {
            "text/html": [
              "<table class=\"dataframe\">\n",
              "<caption>A matrix: 5 × 3 of type int</caption>\n",
              "<tbody>\n",
              "\t<tr><td>1</td><td> 6</td><td>11</td></tr>\n",
              "\t<tr><td>2</td><td> 7</td><td>12</td></tr>\n",
              "\t<tr><td>3</td><td> 8</td><td>13</td></tr>\n",
              "\t<tr><td>4</td><td> 9</td><td>14</td></tr>\n",
              "\t<tr><td>5</td><td>10</td><td>15</td></tr>\n",
              "</tbody>\n",
              "</table>\n"
            ],
            "text/markdown": "\nA matrix: 5 × 3 of type int\n\n| 1 |  6 | 11 |\n| 2 |  7 | 12 |\n| 3 |  8 | 13 |\n| 4 |  9 | 14 |\n| 5 | 10 | 15 |\n\n",
            "text/latex": "A matrix: 5 × 3 of type int\n\\begin{tabular}{lll}\n\t 1 &  6 & 11\\\\\n\t 2 &  7 & 12\\\\\n\t 3 &  8 & 13\\\\\n\t 4 &  9 & 14\\\\\n\t 5 & 10 & 15\\\\\n\\end{tabular}\n",
            "text/plain": [
              "     [,1] [,2] [,3]\n",
              "[1,] 1     6   11  \n",
              "[2,] 2     7   12  \n",
              "[3,] 3     8   13  \n",
              "[4,] 4     9   14  \n",
              "[5,] 5    10   15  "
            ]
          },
          "metadata": {}
        },
        {
          "output_type": "display_data",
          "data": {
            "text/html": [
              "<table class=\"dataframe\">\n",
              "<caption>A matrix: 3 × 5 of type int</caption>\n",
              "<tbody>\n",
              "\t<tr><td>1</td><td>4</td><td>7</td><td>10</td><td>13</td></tr>\n",
              "\t<tr><td>2</td><td>5</td><td>8</td><td>11</td><td>14</td></tr>\n",
              "\t<tr><td>3</td><td>6</td><td>9</td><td>12</td><td>15</td></tr>\n",
              "</tbody>\n",
              "</table>\n"
            ],
            "text/markdown": "\nA matrix: 3 × 5 of type int\n\n| 1 | 4 | 7 | 10 | 13 |\n| 2 | 5 | 8 | 11 | 14 |\n| 3 | 6 | 9 | 12 | 15 |\n\n",
            "text/latex": "A matrix: 3 × 5 of type int\n\\begin{tabular}{lllll}\n\t 1 & 4 & 7 & 10 & 13\\\\\n\t 2 & 5 & 8 & 11 & 14\\\\\n\t 3 & 6 & 9 & 12 & 15\\\\\n\\end{tabular}\n",
            "text/plain": [
              "     [,1] [,2] [,3] [,4] [,5]\n",
              "[1,] 1    4    7    10   13  \n",
              "[2,] 2    5    8    11   14  \n",
              "[3,] 3    6    9    12   15  "
            ]
          },
          "metadata": {}
        }
      ]
    },
    {
      "cell_type": "code",
      "source": [
        "A <- matrix(1:20, ncol = 4)\n",
        "A"
      ],
      "metadata": {
        "colab": {
          "base_uri": "https://localhost:8080/",
          "height": 208
        },
        "id": "SqsVWMnUN8xj",
        "outputId": "ee0cf5a3-b55d-49f1-b7cf-94ca676fcb96"
      },
      "execution_count": null,
      "outputs": [
        {
          "output_type": "display_data",
          "data": {
            "text/html": [
              "<table class=\"dataframe\">\n",
              "<caption>A matrix: 5 × 4 of type int</caption>\n",
              "<tbody>\n",
              "\t<tr><td>1</td><td> 6</td><td>11</td><td>16</td></tr>\n",
              "\t<tr><td>2</td><td> 7</td><td>12</td><td>17</td></tr>\n",
              "\t<tr><td>3</td><td> 8</td><td>13</td><td>18</td></tr>\n",
              "\t<tr><td>4</td><td> 9</td><td>14</td><td>19</td></tr>\n",
              "\t<tr><td>5</td><td>10</td><td>15</td><td>20</td></tr>\n",
              "</tbody>\n",
              "</table>\n"
            ],
            "text/markdown": "\nA matrix: 5 × 4 of type int\n\n| 1 |  6 | 11 | 16 |\n| 2 |  7 | 12 | 17 |\n| 3 |  8 | 13 | 18 |\n| 4 |  9 | 14 | 19 |\n| 5 | 10 | 15 | 20 |\n\n",
            "text/latex": "A matrix: 5 × 4 of type int\n\\begin{tabular}{llll}\n\t 1 &  6 & 11 & 16\\\\\n\t 2 &  7 & 12 & 17\\\\\n\t 3 &  8 & 13 & 18\\\\\n\t 4 &  9 & 14 & 19\\\\\n\t 5 & 10 & 15 & 20\\\\\n\\end{tabular}\n",
            "text/plain": [
              "     [,1] [,2] [,3] [,4]\n",
              "[1,] 1     6   11   16  \n",
              "[2,] 2     7   12   17  \n",
              "[3,] 3     8   13   18  \n",
              "[4,] 4     9   14   19  \n",
              "[5,] 5    10   15   20  "
            ]
          },
          "metadata": {}
        }
      ]
    },
    {
      "cell_type": "markdown",
      "source": [
        "# Listas\n",
        "\n",
        "La principal diferencia de las listas con otras colecciones es, en R, que pueden ser heterogéneas. En R, se puede considerar que los miembros de una lista siguen una secuencia y son accesibles a través de índices numéricos, al igual que los vectores. Sin embargo, con frecuencia los miembros de una lista reciben nombres y se recuperan (indexan) a través de estos nombres. Las listas se crean usando la función list()."
      ],
      "metadata": {
        "id": "Ur5XotyJOgls"
      }
    },
    {
      "cell_type": "code",
      "source": [
        "a.list <- list(x = 1:6, y = \"a\", z = c(TRUE, FALSE))\n",
        "a.list"
      ],
      "metadata": {
        "colab": {
          "base_uri": "https://localhost:8080/",
          "height": 149
        },
        "id": "QHJjrY5COjhd",
        "outputId": "19efa048-00f1-4a00-f7cb-577aba25901e"
      },
      "execution_count": null,
      "outputs": [
        {
          "output_type": "display_data",
          "data": {
            "text/html": [
              "<dl>\n",
              "\t<dt>$x</dt>\n",
              "\t\t<dd><style>\n",
              ".list-inline {list-style: none; margin:0; padding: 0}\n",
              ".list-inline>li {display: inline-block}\n",
              ".list-inline>li:not(:last-child)::after {content: \"\\00b7\"; padding: 0 .5ex}\n",
              "</style>\n",
              "<ol class=list-inline><li>1</li><li>2</li><li>3</li><li>4</li><li>5</li><li>6</li></ol>\n",
              "</dd>\n",
              "\t<dt>$y</dt>\n",
              "\t\t<dd>'a'</dd>\n",
              "\t<dt>$z</dt>\n",
              "\t\t<dd><style>\n",
              ".list-inline {list-style: none; margin:0; padding: 0}\n",
              ".list-inline>li {display: inline-block}\n",
              ".list-inline>li:not(:last-child)::after {content: \"\\00b7\"; padding: 0 .5ex}\n",
              "</style>\n",
              "<ol class=list-inline><li>TRUE</li><li>FALSE</li></ol>\n",
              "</dd>\n",
              "</dl>\n"
            ],
            "text/markdown": "$x\n:   1. 1\n2. 2\n3. 3\n4. 4\n5. 5\n6. 6\n\n\n\n$y\n:   'a'\n$z\n:   1. TRUE\n2. FALSE\n\n\n\n\n\n",
            "text/latex": "\\begin{description}\n\\item[\\$x] \\begin{enumerate*}\n\\item 1\n\\item 2\n\\item 3\n\\item 4\n\\item 5\n\\item 6\n\\end{enumerate*}\n\n\\item[\\$y] 'a'\n\\item[\\$z] \\begin{enumerate*}\n\\item TRUE\n\\item FALSE\n\\end{enumerate*}\n\n\\end{description}\n",
            "text/plain": [
              "$x\n",
              "[1] 1 2 3 4 5 6\n",
              "\n",
              "$y\n",
              "[1] \"a\"\n",
              "\n",
              "$z\n",
              "[1]  TRUE FALSE\n"
            ]
          },
          "metadata": {}
        }
      ]
    },
    {
      "cell_type": "markdown",
      "source": [
        "# Data Frames\n",
        "\n",
        "Los marcos de datos son un tipo especial de lista, en la que cada elemento es un vector o un factor de la misma longitud. Se crean con la función data.frame() con una sintaxis similar a la utilizada para las listas; en programación orientada a objetos decimos que los marcos de datos se derivan de la lista de clases. Como la expectativa es que la longitud sea igual, si se proporcionan vectores de diferentes longitudes como argumentos, los vectores más cortos se reciclan, posiblemente varias veces, hasta alcanzar la longitud total requerida."
      ],
      "metadata": {
        "id": "nD2DDcoePQxq"
      }
    },
    {
      "cell_type": "code",
      "source": [
        "a.df <- data.frame(x = 1:6, y = \"a\", z = c(TRUE, FALSE))\n",
        "a.df\n",
        "\n",
        "str(a.df)\n",
        "\n",
        "class(a.df)\n",
        "mode(a.df)\n",
        "\n",
        "is.data.frame(a.df)\n",
        "\n",
        "is.list(a.df)\n"
      ],
      "metadata": {
        "colab": {
          "base_uri": "https://localhost:8080/",
          "height": 425
        },
        "id": "kjOgiLupPYd6",
        "outputId": "18246ce3-a8b7-4c83-b1a7-23978ebde1b0"
      },
      "execution_count": null,
      "outputs": [
        {
          "output_type": "display_data",
          "data": {
            "text/html": [
              "<table class=\"dataframe\">\n",
              "<caption>A data.frame: 6 × 3</caption>\n",
              "<thead>\n",
              "\t<tr><th scope=col>x</th><th scope=col>y</th><th scope=col>z</th></tr>\n",
              "\t<tr><th scope=col>&lt;int&gt;</th><th scope=col>&lt;chr&gt;</th><th scope=col>&lt;lgl&gt;</th></tr>\n",
              "</thead>\n",
              "<tbody>\n",
              "\t<tr><td>1</td><td>a</td><td> TRUE</td></tr>\n",
              "\t<tr><td>2</td><td>a</td><td>FALSE</td></tr>\n",
              "\t<tr><td>3</td><td>a</td><td> TRUE</td></tr>\n",
              "\t<tr><td>4</td><td>a</td><td>FALSE</td></tr>\n",
              "\t<tr><td>5</td><td>a</td><td> TRUE</td></tr>\n",
              "\t<tr><td>6</td><td>a</td><td>FALSE</td></tr>\n",
              "</tbody>\n",
              "</table>\n"
            ],
            "text/markdown": "\nA data.frame: 6 × 3\n\n| x &lt;int&gt; | y &lt;chr&gt; | z &lt;lgl&gt; |\n|---|---|---|\n| 1 | a |  TRUE |\n| 2 | a | FALSE |\n| 3 | a |  TRUE |\n| 4 | a | FALSE |\n| 5 | a |  TRUE |\n| 6 | a | FALSE |\n\n",
            "text/latex": "A data.frame: 6 × 3\n\\begin{tabular}{lll}\n x & y & z\\\\\n <int> & <chr> & <lgl>\\\\\n\\hline\n\t 1 & a &  TRUE\\\\\n\t 2 & a & FALSE\\\\\n\t 3 & a &  TRUE\\\\\n\t 4 & a & FALSE\\\\\n\t 5 & a &  TRUE\\\\\n\t 6 & a & FALSE\\\\\n\\end{tabular}\n",
            "text/plain": [
              "  x y z    \n",
              "1 1 a  TRUE\n",
              "2 2 a FALSE\n",
              "3 3 a  TRUE\n",
              "4 4 a FALSE\n",
              "5 5 a  TRUE\n",
              "6 6 a FALSE"
            ]
          },
          "metadata": {}
        },
        {
          "output_type": "stream",
          "name": "stdout",
          "text": [
            "'data.frame':\t6 obs. of  3 variables:\n",
            " $ x: int  1 2 3 4 5 6\n",
            " $ y: chr  \"a\" \"a\" \"a\" \"a\" ...\n",
            " $ z: logi  TRUE FALSE TRUE FALSE TRUE FALSE\n"
          ]
        },
        {
          "output_type": "display_data",
          "data": {
            "text/html": [
              "'data.frame'"
            ],
            "text/markdown": "'data.frame'",
            "text/latex": "'data.frame'",
            "text/plain": [
              "[1] \"data.frame\""
            ]
          },
          "metadata": {}
        },
        {
          "output_type": "display_data",
          "data": {
            "text/html": [
              "'list'"
            ],
            "text/markdown": "'list'",
            "text/latex": "'list'",
            "text/plain": [
              "[1] \"list\""
            ]
          },
          "metadata": {}
        },
        {
          "output_type": "display_data",
          "data": {
            "text/html": [
              "TRUE"
            ],
            "text/markdown": "TRUE",
            "text/latex": "TRUE",
            "text/plain": [
              "[1] TRUE"
            ]
          },
          "metadata": {}
        },
        {
          "output_type": "display_data",
          "data": {
            "text/html": [
              "TRUE"
            ],
            "text/markdown": "TRUE",
            "text/latex": "TRUE",
            "text/plain": [
              "[1] TRUE"
            ]
          },
          "metadata": {}
        }
      ]
    },
    {
      "cell_type": "markdown",
      "source": [
        "# Plotting\n",
        "\n",
        "El método genérico de base R plot() se puede utilizar para trazar diferentes datos. Es un método genérico que tiene especializaciones adecuadas para diferentes tipos de objetos. En esta sección solo demostramos muy brevemente el uso de las funciones gráficas base-R más comunes. Están bien descritos en el libro R Graphics (Murrell 2019)."
      ],
      "metadata": {
        "id": "vIsZC2dyP_ud"
      }
    },
    {
      "cell_type": "code",
      "source": [
        "plot(x = cars$speed, y = cars$dist)\n",
        "\n",
        "plot(dist ~ speed, data = cars)\n",
        "\n",
        "plot(weight ~ feed, data = chickwts)"
      ],
      "metadata": {
        "colab": {
          "base_uri": "https://localhost:8080/",
          "height": 1000
        },
        "id": "mCnZJbxuQC9E",
        "outputId": "37900cb5-d4fe-439e-91ea-37cadf759536"
      },
      "execution_count": null,
      "outputs": [
        {
          "output_type": "display_data",
          "data": {
            "text/plain": [
              "plot without title"
            ],
            "image/png": "[encoded data removed]"
          },
          "metadata": {
            "image/png": {
              "width": 420,
              "height": 420
            }
          }
        },
        {
          "output_type": "display_data",
          "data": {
            "text/plain": [
              "plot without title"
            ],
            "image/png": "[encoded data removed]"
          },
          "metadata": {
            "image/png": {
              "width": 420,
              "height": 420
            }
          }
        },
        {
          "output_type": "display_data",
          "data": {
            "text/plain": [
              "plot without title"
            ],
            "image/png": "[encoded data removed]"
          },
          "metadata": {
            "image/png": {
              "width": 420,
              "height": 420
            }
          }
        }
      ]
    }
  ]
}